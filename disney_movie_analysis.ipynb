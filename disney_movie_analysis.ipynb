{
 "cells": [
  {
   "cell_type": "markdown",
   "metadata": {},
   "source": [
    "# <center> Exploratory Data Analysis of Disney Movies </center>\n",
    "## <center> Author:  Pankti Shah || August 2021 </center>"
   ]
  },
  {
   "cell_type": "markdown",
   "metadata": {},
   "source": [
    "___________________________________________________________________________________\n",
    "____________________________________________________________________________________"
   ]
  },
  {
   "cell_type": "markdown",
   "metadata": {
    "tags": []
   },
   "source": [
    "# Introduction\n",
    "\n",
    "## Question(s) of Interests\n",
    "In this analysis, I will be investigating few questions associated with the collection of disney movie datasets. I am interested in finding to what extend key factors like the movie release month, genre, rating, and the movie director have had influence on the overall box office success of disney movies over the years. \n",
    "\n",
    "I am interested in exploring these questions as it important to understand what factors influences audience to watch disney movies, and how has audiences' interests evolved over the years. I would expect release month would not have too much of an impact, unless it's during public holiday months. Since disney movies are released across the world, and each country has public holidays during different months, it should not have a significant impact on the box office. I am expecting comedy genres, and PG rated movies to have greater earnings as it would reach to a larger audience across the world. \n",
    "\n",
    "\n",
    "## Dataset Description \n",
    "\n",
    "This notebook will be showing some exploratory data analysis for the `Disney Movies` dataset located [here](https://data.world/kgarrett/disney-character-success-00-16). \n",
    "\n",
    "Following two disney movie dataset will be used: `disney-directors.csv`, and `disney_movies_total_gross.csv`. Each table is stored in a `.csv` file and contains different information about Disney movies including release date, genre, MPAA rating, total gross earning, inflation adjusted gross earning, and movie director. \n",
    "\n",
    "1. **disney-directors.csv**\n",
    "    * This file contains information on director(s) that has made Disney movies. \n",
    "    \n",
    "2. **disney_movies_total_gross.csv**\n",
    "    * This file includes information on disney movies gross_earning, and inflated_adjusted gross earning. Each movie is given a unique ID number, along with information about its release date, genre, and rating."
   ]
  },
  {
   "cell_type": "markdown",
   "metadata": {},
   "source": [
    "___________________________________________________________________________________\n",
    "____________________________________________________________________________________"
   ]
  },
  {
   "cell_type": "markdown",
   "metadata": {},
   "source": [
    "# Methods and Results\n",
    "\n",
    "Before beginning the analysis, releavant libraries, functions, and data tables that will be needed for analysis will be imported."
   ]
  },
  {
   "cell_type": "code",
   "execution_count": 512,
   "metadata": {},
   "outputs": [],
   "source": [
    "# Import releavant libraries \n",
    "import pandas as pd\n",
    "import altair as alt "
   ]
  },
  {
   "cell_type": "code",
   "execution_count": 513,
   "metadata": {},
   "outputs": [],
   "source": [
    "# Import function\n",
    "from frequency import frequency_table\n",
    "from frequency_tests import test_sample_dataframe\n",
    "\n",
    "# Unit testing to ensure imported function works\n",
    "test_sample_dataframe()"
   ]
  },
  {
   "cell_type": "code",
   "execution_count": 514,
   "metadata": {},
   "outputs": [],
   "source": [
    "# Import relevant data tables\n",
    "director = pd.read_csv('data/disney-director.csv')\n",
    "movie_gross_earning = pd.read_csv('data/disney_movies_total_gross.csv')"
   ]
  },
  {
   "cell_type": "markdown",
   "metadata": {},
   "source": [
    "In the table `movie_gross_earning`, release_date is an object. In order to analyze how earnings have changed over years, and to what extend movie release date influences gross_earnings, data in `release_date` column needs to be cleaned-up into appropriate format."
   ]
  },
  {
   "cell_type": "code",
   "execution_count": 515,
   "metadata": {
    "tags": []
   },
   "outputs": [],
   "source": [
    "# Data cleaning \n",
    "\n",
    "# Date split into day, month, year for the table name movie_gross_earning\n",
    "gross_earning_dates = movie_gross_earning['release_date'].str.split(\n",
    "    ' ', expand = True).rename(\n",
    "    columns = {0: 'Release_Month', 1: 'Release_Day', 2: 'Release_Year'})\n",
    "\n",
    "gross_earning = pd.concat([movie_gross_earning, gross_earning_dates], axis = 1)\n",
    "\n",
    "# Dropping release_date variable as it is redudant and not required\n",
    "gross_earning = gross_earning.drop(columns = 'release_date')\n",
    "\n",
    "# Converting total_gross and inflation_adjusted_gross values from object type to int64\n",
    "gross_earning['total_gross'] = pd.to_numeric(gross_earning['total_gross'].replace('[^0-9\\.-]','',regex=True))\n",
    "gross_earning['inflation_adjusted_gross'] = pd.to_numeric(gross_earning['total_gross'].replace('[^0-9\\.-]','',regex=True))"
   ]
  },
  {
   "cell_type": "markdown",
   "metadata": {},
   "source": [
    "Using the function `frequency_table()`, we will first find percent of movies that were released in each month. \n",
    "\n",
    "More information about the function `frequency_table()` can be found in DocString in `frequency.py`. Recall, unit test for this function have already been validated earlier, but can be found in `frequency_test.py` as well. \n",
    "\n",
    "Throughout this exploratory analysis, `Inflation adjusted gross` column data is used to normalize earnings. Next step is to find the total Disney movie earnings based on the movie release month. Filtered dataframe for this is saved as `earning_month`. \n",
    "\n",
    "`combined_monthly_plot` displays the data results to help visualize our findings. Bar graph shows the percentage of movies that were released in each month (y-axis on left). Line graph shows total earnings for all the movies that were released in each of the respective months (y-axis on right). "
   ]
  },
  {
   "cell_type": "code",
   "execution_count": 516,
   "metadata": {
    "tags": []
   },
   "outputs": [
    {
     "data": {
      "text/html": [
       "\n",
       "<div id=\"altair-viz-c54cd1ef66854dff95fc481b3bbdf60c\"></div>\n",
       "<script type=\"text/javascript\">\n",
       "  (function(spec, embedOpt){\n",
       "    let outputDiv = document.currentScript.previousElementSibling;\n",
       "    if (outputDiv.id !== \"altair-viz-c54cd1ef66854dff95fc481b3bbdf60c\") {\n",
       "      outputDiv = document.getElementById(\"altair-viz-c54cd1ef66854dff95fc481b3bbdf60c\");\n",
       "    }\n",
       "    const paths = {\n",
       "      \"vega\": \"https://cdn.jsdelivr.net/npm//vega@5?noext\",\n",
       "      \"vega-lib\": \"https://cdn.jsdelivr.net/npm//vega-lib?noext\",\n",
       "      \"vega-lite\": \"https://cdn.jsdelivr.net/npm//vega-lite@4.8.1?noext\",\n",
       "      \"vega-embed\": \"https://cdn.jsdelivr.net/npm//vega-embed@6?noext\",\n",
       "    };\n",
       "\n",
       "    function loadScript(lib) {\n",
       "      return new Promise(function(resolve, reject) {\n",
       "        var s = document.createElement('script');\n",
       "        s.src = paths[lib];\n",
       "        s.async = true;\n",
       "        s.onload = () => resolve(paths[lib]);\n",
       "        s.onerror = () => reject(`Error loading script: ${paths[lib]}`);\n",
       "        document.getElementsByTagName(\"head\")[0].appendChild(s);\n",
       "      });\n",
       "    }\n",
       "\n",
       "    function showError(err) {\n",
       "      outputDiv.innerHTML = `<div class=\"error\" style=\"color:red;\">${err}</div>`;\n",
       "      throw err;\n",
       "    }\n",
       "\n",
       "    function displayChart(vegaEmbed) {\n",
       "      vegaEmbed(outputDiv, spec, embedOpt)\n",
       "        .catch(err => showError(`Javascript Error: ${err.message}<br>This usually means there's a typo in your chart specification. See the javascript console for the full traceback.`));\n",
       "    }\n",
       "\n",
       "    if(typeof define === \"function\" && define.amd) {\n",
       "      requirejs.config({paths});\n",
       "      require([\"vega-embed\"], displayChart, err => showError(`Error loading script: ${err.message}`));\n",
       "    } else if (typeof vegaEmbed === \"function\") {\n",
       "      displayChart(vegaEmbed);\n",
       "    } else {\n",
       "      loadScript(\"vega\")\n",
       "        .then(() => loadScript(\"vega-lite\"))\n",
       "        .then(() => loadScript(\"vega-embed\"))\n",
       "        .catch(showError)\n",
       "        .then(() => displayChart(vegaEmbed));\n",
       "    }\n",
       "  })({\"config\": {\"view\": {\"continuousWidth\": 400, \"continuousHeight\": 300}, \"axis\": {\"labelFontSize\": 16, \"titleFontSize\": 16}, \"title\": {\"fontSize\": 24}}, \"layer\": [{\"data\": {\"name\": \"data-585b0906c8dd6835838b7aaef9b45b66\"}, \"mark\": {\"type\": \"bar\", \"color\": \"lavender\"}, \"encoding\": {\"x\": {\"type\": \"nominal\", \"field\": \"Month\", \"title\": \"Movie Release Month\"}, \"y\": {\"type\": \"quantitative\", \"field\": \"frequency_percent\", \"title\": \"Movie Release Percentage %\"}}}, {\"data\": {\"name\": \"data-ac54c9f93c433f65acbdf3491e6fef4c\"}, \"mark\": {\"type\": \"line\", \"color\": \"red\", \"point\": true, \"radius\": 8, \"size\": 3}, \"encoding\": {\"x\": {\"type\": \"nominal\", \"field\": \"Month\", \"title\": \"Movie Release Month\"}, \"y\": {\"type\": \"quantitative\", \"field\": \"inflation_adjusted_gross\", \"title\": \"Inflation Adjusted Gross Revenue ($)\"}}}], \"height\": 600, \"resolve\": {\"scale\": {\"y\": \"independent\"}}, \"title\": \"Figure 1: Influence of the Movie Release Month on Earnings\", \"width\": 800, \"$schema\": \"https://vega.github.io/schema/vega-lite/v4.8.1.json\", \"datasets\": {\"data-585b0906c8dd6835838b7aaef9b45b66\": [{\"Month\": \"Mar\", \"frequency_percent\": 10.535405872193436}, {\"Month\": \"Nov\", \"frequency_percent\": 10.189982728842832}, {\"Month\": \"Dec\", \"frequency_percent\": 8.635578583765112}, {\"Month\": \"Apr\", \"frequency_percent\": 8.635578583765112}, {\"Month\": \"Oct\", \"frequency_percent\": 8.635578583765112}, {\"Month\": \"Jun\", \"frequency_percent\": 8.635578583765112}, {\"Month\": \"Aug\", \"frequency_percent\": 8.46286701208981}, {\"Month\": \"Feb\", \"frequency_percent\": 7.599309153713299}, {\"Month\": \"Jul\", \"frequency_percent\": 7.599309153713299}, {\"Month\": \"Sep\", \"frequency_percent\": 7.4265975820379975}, {\"Month\": \"May\", \"frequency_percent\": 7.081174438687392}, {\"Month\": \"Jan\", \"frequency_percent\": 6.563039723661486}], \"data-ac54c9f93c433f65acbdf3491e6fef4c\": [{\"Month\": \"Apr\", \"total_gross\": 1736865348, \"inflation_adjusted_gross\": 1736865348}, {\"Month\": \"Aug\", \"total_gross\": 2568209698, \"inflation_adjusted_gross\": 2568209698}, {\"Month\": \"Dec\", \"total_gross\": 4350869253, \"inflation_adjusted_gross\": 4350869253}, {\"Month\": \"Feb\", \"total_gross\": 1546906331, \"inflation_adjusted_gross\": 1546906331}, {\"Month\": \"Jan\", \"total_gross\": 1128086471, \"inflation_adjusted_gross\": 1128086471}, {\"Month\": \"Jul\", \"total_gross\": 3032210005, \"inflation_adjusted_gross\": 3032210005}, {\"Month\": \"Jun\", \"total_gross\": 5720518013, \"inflation_adjusted_gross\": 5720518013}, {\"Month\": \"Mar\", \"total_gross\": 3148169471, \"inflation_adjusted_gross\": 3148169471}, {\"Month\": \"May\", \"total_gross\": 4937909068, \"inflation_adjusted_gross\": 4937909068}, {\"Month\": \"Nov\", \"total_gross\": 6710416094, \"inflation_adjusted_gross\": 6710416094}, {\"Month\": \"Oct\", \"total_gross\": 1601606434, \"inflation_adjusted_gross\": 1601606434}, {\"Month\": \"Sep\", \"total_gross\": 980569367, \"inflation_adjusted_gross\": 980569367}]}}, {\"mode\": \"vega-lite\"});\n",
       "</script>"
      ],
      "text/plain": [
       "alt.LayerChart(...)"
      ]
     },
     "execution_count": 516,
     "metadata": {},
     "output_type": "execute_result"
    }
   ],
   "source": [
    "# Percentage of movies released in each months  \n",
    "movies_month = frequency_table(gross_earning, 'Release_Month','Month', 'Frequency')\n",
    "\n",
    "# Total earning based on movie release month \n",
    "earning_month = gross_earning.drop(columns=['movie_title','genre','MPAA_rating','Release_Day']).groupby(\n",
    "    by = 'Release_Month').sum().reset_index().rename(columns={'Release_Month':'Month'})\n",
    "\n",
    "# Figure 1 to show percentage of movies released each month along with their inflation adjusted gross earnings\n",
    "month_freq = alt.Chart(movies_month).mark_bar(color = 'lavender').encode(\n",
    "            alt.X('Month', title = 'Movie Release Month'),\n",
    "            alt.Y('frequency_percent', title = 'Movie Release Percentage %'))\n",
    "\n",
    "month_earning = alt.Chart(earning_month).mark_line(\n",
    "    color = 'red', point=True, size=3, radius=8).encode(\n",
    "            alt.X('Month', title = 'Movie Release Month'),\n",
    "            alt.Y('inflation_adjusted_gross', title = 'Inflation Adjusted Gross Revenue ($)'))\n",
    "\n",
    "combined_monthly_plot = alt.layer(month_freq, month_earning).properties(\n",
    "    height=600, width=800, title=\"Figure 1: Influence of the Movie Release Month on Earnings\").resolve_scale(\n",
    "    y = 'independent').configure_axis(\n",
    "    labelFontSize=16, titleFontSize=16).configure_title(fontSize=24)\n",
    "\n",
    "combined_monthly_plot"
   ]
  },
  {
   "cell_type": "markdown",
   "metadata": {},
   "source": [
    "Next, we explore number of Disney movies that were released each year, and how their earnings have changed over the years. Has Disney movies gained more popularity over the years?\n",
    "\n",
    "`combined_yearly_plot` displays percent of movies that have released each year in the bar graph (y-axis on left), and yearly total earnings in the line graph (y-axis on right). Important to note, bucketing for this analysis is based on the year of the movie release. "
   ]
  },
  {
   "cell_type": "code",
   "execution_count": 517,
   "metadata": {},
   "outputs": [
    {
     "data": {
      "text/html": [
       "\n",
       "<div id=\"altair-viz-42eb75760860421590192c771d36a01f\"></div>\n",
       "<script type=\"text/javascript\">\n",
       "  (function(spec, embedOpt){\n",
       "    let outputDiv = document.currentScript.previousElementSibling;\n",
       "    if (outputDiv.id !== \"altair-viz-42eb75760860421590192c771d36a01f\") {\n",
       "      outputDiv = document.getElementById(\"altair-viz-42eb75760860421590192c771d36a01f\");\n",
       "    }\n",
       "    const paths = {\n",
       "      \"vega\": \"https://cdn.jsdelivr.net/npm//vega@5?noext\",\n",
       "      \"vega-lib\": \"https://cdn.jsdelivr.net/npm//vega-lib?noext\",\n",
       "      \"vega-lite\": \"https://cdn.jsdelivr.net/npm//vega-lite@4.8.1?noext\",\n",
       "      \"vega-embed\": \"https://cdn.jsdelivr.net/npm//vega-embed@6?noext\",\n",
       "    };\n",
       "\n",
       "    function loadScript(lib) {\n",
       "      return new Promise(function(resolve, reject) {\n",
       "        var s = document.createElement('script');\n",
       "        s.src = paths[lib];\n",
       "        s.async = true;\n",
       "        s.onload = () => resolve(paths[lib]);\n",
       "        s.onerror = () => reject(`Error loading script: ${paths[lib]}`);\n",
       "        document.getElementsByTagName(\"head\")[0].appendChild(s);\n",
       "      });\n",
       "    }\n",
       "\n",
       "    function showError(err) {\n",
       "      outputDiv.innerHTML = `<div class=\"error\" style=\"color:red;\">${err}</div>`;\n",
       "      throw err;\n",
       "    }\n",
       "\n",
       "    function displayChart(vegaEmbed) {\n",
       "      vegaEmbed(outputDiv, spec, embedOpt)\n",
       "        .catch(err => showError(`Javascript Error: ${err.message}<br>This usually means there's a typo in your chart specification. See the javascript console for the full traceback.`));\n",
       "    }\n",
       "\n",
       "    if(typeof define === \"function\" && define.amd) {\n",
       "      requirejs.config({paths});\n",
       "      require([\"vega-embed\"], displayChart, err => showError(`Error loading script: ${err.message}`));\n",
       "    } else if (typeof vegaEmbed === \"function\") {\n",
       "      displayChart(vegaEmbed);\n",
       "    } else {\n",
       "      loadScript(\"vega\")\n",
       "        .then(() => loadScript(\"vega-lite\"))\n",
       "        .then(() => loadScript(\"vega-embed\"))\n",
       "        .catch(showError)\n",
       "        .then(() => displayChart(vegaEmbed));\n",
       "    }\n",
       "  })({\"config\": {\"view\": {\"continuousWidth\": 400, \"continuousHeight\": 300}, \"axis\": {\"labelFontSize\": 16, \"titleFontSize\": 16}, \"title\": {\"fontSize\": 24}}, \"layer\": [{\"data\": {\"name\": \"data-9fd970a4c3795376e2b0df02f9119b9a\"}, \"mark\": {\"type\": \"bar\", \"color\": \"greenyellow\"}, \"encoding\": {\"x\": {\"type\": \"nominal\", \"field\": \"Year\", \"sort\": \"x\", \"title\": \"Release Year\"}, \"y\": {\"type\": \"quantitative\", \"field\": \"frequency_percent\", \"title\": \"Movie Release (%)\"}}}, {\"data\": {\"name\": \"data-8cb76b2f2e41d4a348c3e9b50c30025a\"}, \"mark\": {\"type\": \"line\", \"color\": \"blue\", \"point\": true}, \"encoding\": {\"x\": {\"type\": \"nominal\", \"field\": \"Year\", \"title\": \"Release Year\"}, \"y\": {\"type\": \"quantitative\", \"field\": \"inflation_adjusted_gross\", \"title\": \"Inflation Adjusted Gross Revenue ($)\"}}}], \"height\": 600, \"resolve\": {\"scale\": {\"y\": \"independent\"}}, \"title\": \"Figure 2: Influence of the Movie Release Year on Earnings\", \"width\": 800, \"$schema\": \"https://vega.github.io/schema/vega-lite/v4.8.1.json\", \"datasets\": {\"data-9fd970a4c3795376e2b0df02f9119b9a\": [{\"Year\": \"1995\", \"frequency_percent\": 5.526770293609672}, {\"Year\": \"1994\", \"frequency_percent\": 5.181347150259067}, {\"Year\": \"1996\", \"frequency_percent\": 4.8359240069084635}, {\"Year\": \"1993\", \"frequency_percent\": 4.66321243523316}, {\"Year\": \"1997\", \"frequency_percent\": 3.9723661485319512}, {\"Year\": \"1998\", \"frequency_percent\": 3.7996545768566494}, {\"Year\": \"2002\", \"frequency_percent\": 3.7996545768566494}, {\"Year\": \"1992\", \"frequency_percent\": 3.7996545768566494}, {\"Year\": \"1999\", \"frequency_percent\": 3.6269430051813467}, {\"Year\": \"2006\", \"frequency_percent\": 3.281519861830743}, {\"Year\": \"2003\", \"frequency_percent\": 3.281519861830743}, {\"Year\": \"2000\", \"frequency_percent\": 3.281519861830743}, {\"Year\": \"2004\", \"frequency_percent\": 3.281519861830743}, {\"Year\": \"2005\", \"frequency_percent\": 2.936096718480138}, {\"Year\": \"2009\", \"frequency_percent\": 2.763385146804836}, {\"Year\": \"1991\", \"frequency_percent\": 2.763385146804836}, {\"Year\": \"1990\", \"frequency_percent\": 2.5906735751295336}, {\"Year\": \"2016\", \"frequency_percent\": 2.4179620034542317}, {\"Year\": \"2011\", \"frequency_percent\": 2.4179620034542317}, {\"Year\": \"2007\", \"frequency_percent\": 2.4179620034542317}, {\"Year\": \"2001\", \"frequency_percent\": 2.4179620034542317}, {\"Year\": \"2010\", \"frequency_percent\": 2.4179620034542317}, {\"Year\": \"2008\", \"frequency_percent\": 2.2452504317789295}, {\"Year\": \"1988\", \"frequency_percent\": 2.072538860103627}, {\"Year\": \"2014\", \"frequency_percent\": 2.072538860103627}, {\"Year\": \"2013\", \"frequency_percent\": 1.8998272884283247}, {\"Year\": \"2015\", \"frequency_percent\": 1.8998272884283247}, {\"Year\": \"1989\", \"frequency_percent\": 1.8998272884283247}, {\"Year\": \"1987\", \"frequency_percent\": 1.7271157167530224}, {\"Year\": \"2012\", \"frequency_percent\": 1.7271157167530224}, {\"Year\": \"1986\", \"frequency_percent\": 1.2089810017271159}, {\"Year\": \"1985\", \"frequency_percent\": 1.0362694300518136}, {\"Year\": \"1977\", \"frequency_percent\": 0.690846286701209}, {\"Year\": \"1981\", \"frequency_percent\": 0.690846286701209}, {\"Year\": \"1983\", \"frequency_percent\": 0.690846286701209}, {\"Year\": \"1961\", \"frequency_percent\": 0.5181347150259068}, {\"Year\": \"1982\", \"frequency_percent\": 0.5181347150259068}, {\"Year\": \"1980\", \"frequency_percent\": 0.3454231433506045}, {\"Year\": \"1984\", \"frequency_percent\": 0.3454231433506045}, {\"Year\": \"1970\", \"frequency_percent\": 0.3454231433506045}, {\"Year\": \"1940\", \"frequency_percent\": 0.3454231433506045}, {\"Year\": \"1971\", \"frequency_percent\": 0.17271157167530224}, {\"Year\": \"1950\", \"frequency_percent\": 0.17271157167530224}, {\"Year\": \"1979\", \"frequency_percent\": 0.17271157167530224}, {\"Year\": \"1975\", \"frequency_percent\": 0.17271157167530224}, {\"Year\": \"1963\", \"frequency_percent\": 0.17271157167530224}, {\"Year\": \"1968\", \"frequency_percent\": 0.17271157167530224}, {\"Year\": \"1946\", \"frequency_percent\": 0.17271157167530224}, {\"Year\": \"1937\", \"frequency_percent\": 0.17271157167530224}, {\"Year\": \"1954\", \"frequency_percent\": 0.17271157167530224}, {\"Year\": \"1955\", \"frequency_percent\": 0.17271157167530224}, {\"Year\": \"1967\", \"frequency_percent\": 0.17271157167530224}, {\"Year\": \"1962\", \"frequency_percent\": 0.17271157167530224}, {\"Year\": \"1959\", \"frequency_percent\": 0.17271157167530224}], \"data-8cb76b2f2e41d4a348c3e9b50c30025a\": [{\"Year\": \"1937\", \"total_gross\": 184925485, \"inflation_adjusted_gross\": 184925485}, {\"Year\": \"1940\", \"total_gross\": 167620000, \"inflation_adjusted_gross\": 167620000}, {\"Year\": \"1946\", \"total_gross\": 65000000, \"inflation_adjusted_gross\": 65000000}, {\"Year\": \"1950\", \"total_gross\": 85000000, \"inflation_adjusted_gross\": 85000000}, {\"Year\": \"1954\", \"total_gross\": 28200000, \"inflation_adjusted_gross\": 28200000}, {\"Year\": \"1955\", \"total_gross\": 93600000, \"inflation_adjusted_gross\": 93600000}, {\"Year\": \"1959\", \"total_gross\": 9464608, \"inflation_adjusted_gross\": 9464608}, {\"Year\": \"1961\", \"total_gross\": 188599723, \"inflation_adjusted_gross\": 188599723}, {\"Year\": \"1962\", \"total_gross\": 9230769, \"inflation_adjusted_gross\": 9230769}, {\"Year\": \"1963\", \"total_gross\": 22182353, \"inflation_adjusted_gross\": 22182353}, {\"Year\": \"1967\", \"total_gross\": 141843000, \"inflation_adjusted_gross\": 141843000}, {\"Year\": \"1968\", \"total_gross\": 21540050, \"inflation_adjusted_gross\": 21540050}, {\"Year\": \"1970\", \"total_gross\": 74282749, \"inflation_adjusted_gross\": 74282749}, {\"Year\": \"1971\", \"total_gross\": 17871174, \"inflation_adjusted_gross\": 17871174}, {\"Year\": \"1975\", \"total_gross\": 31916500, \"inflation_adjusted_gross\": 31916500}, {\"Year\": \"1977\", \"total_gross\": 102717599, \"inflation_adjusted_gross\": 102717599}, {\"Year\": \"1979\", \"total_gross\": 35841901, \"inflation_adjusted_gross\": 35841901}, {\"Year\": \"1980\", \"total_gross\": 13900000, \"inflation_adjusted_gross\": 13900000}, {\"Year\": \"1981\", \"total_gross\": 59899231, \"inflation_adjusted_gross\": 59899231}, {\"Year\": \"1982\", \"total_gross\": 38617984, \"inflation_adjusted_gross\": 38617984}, {\"Year\": \"1983\", \"total_gross\": 38833732, \"inflation_adjusted_gross\": 38833732}, {\"Year\": \"1984\", \"total_gross\": 70999495, \"inflation_adjusted_gross\": 70999495}, {\"Year\": \"1985\", \"total_gross\": 72981626, \"inflation_adjusted_gross\": 72981626}, {\"Year\": \"1986\", \"total_gross\": 254523258, \"inflation_adjusted_gross\": 254523258}, {\"Year\": \"1987\", \"total_gross\": 560208813, \"inflation_adjusted_gross\": 560208813}, {\"Year\": \"1988\", \"total_gross\": 479129298, \"inflation_adjusted_gross\": 479129298}, {\"Year\": \"1989\", \"total_gross\": 525447310, \"inflation_adjusted_gross\": 525447310}, {\"Year\": \"1990\", \"total_gross\": 613857056, \"inflation_adjusted_gross\": 613857056}, {\"Year\": \"1991\", \"total_gross\": 647050340, \"inflation_adjusted_gross\": 647050340}, {\"Year\": \"1992\", \"total_gross\": 854534354, \"inflation_adjusted_gross\": 854534354}, {\"Year\": \"1993\", \"total_gross\": 701652109, \"inflation_adjusted_gross\": 701652109}, {\"Year\": \"1994\", \"total_gross\": 1092255030, \"inflation_adjusted_gross\": 1092255030}, {\"Year\": \"1995\", \"total_gross\": 1131964294, \"inflation_adjusted_gross\": 1131964294}, {\"Year\": \"1996\", \"total_gross\": 1134044721, \"inflation_adjusted_gross\": 1134044721}, {\"Year\": \"1997\", \"total_gross\": 803617066, \"inflation_adjusted_gross\": 803617066}, {\"Year\": \"1998\", \"total_gross\": 1229279167, \"inflation_adjusted_gross\": 1229279167}, {\"Year\": \"1999\", \"total_gross\": 1200292143, \"inflation_adjusted_gross\": 1200292143}, {\"Year\": \"2000\", \"total_gross\": 1098929717, \"inflation_adjusted_gross\": 1098929717}, {\"Year\": \"2001\", \"total_gross\": 881246784, \"inflation_adjusted_gross\": 881246784}, {\"Year\": \"2002\", \"total_gross\": 1159269061, \"inflation_adjusted_gross\": 1159269061}, {\"Year\": \"2003\", \"total_gross\": 1564114393, \"inflation_adjusted_gross\": 1564114393}, {\"Year\": \"2004\", \"total_gross\": 1157899879, \"inflation_adjusted_gross\": 1157899879}, {\"Year\": \"2005\", \"total_gross\": 970646842, \"inflation_adjusted_gross\": 970646842}, {\"Year\": \"2006\", \"total_gross\": 1427356974, \"inflation_adjusted_gross\": 1427356974}, {\"Year\": \"2007\", \"total_gross\": 1436787754, \"inflation_adjusted_gross\": 1436787754}, {\"Year\": \"2008\", \"total_gross\": 968276109, \"inflation_adjusted_gross\": 968276109}, {\"Year\": \"2009\", \"total_gross\": 1215142753, \"inflation_adjusted_gross\": 1215142753}, {\"Year\": \"2010\", \"total_gross\": 1518975880, \"inflation_adjusted_gross\": 1518975880}, {\"Year\": \"2011\", \"total_gross\": 1103207068, \"inflation_adjusted_gross\": 1103207068}, {\"Year\": \"2012\", \"total_gross\": 1452972057, \"inflation_adjusted_gross\": 1452972057}, {\"Year\": \"2013\", \"total_gross\": 1821352070, \"inflation_adjusted_gross\": 1821352070}, {\"Year\": \"2014\", \"total_gross\": 1514179473, \"inflation_adjusted_gross\": 1514179473}, {\"Year\": \"2015\", \"total_gross\": 2495662696, \"inflation_adjusted_gross\": 2495662696}, {\"Year\": \"2016\", \"total_gross\": 2873393105, \"inflation_adjusted_gross\": 2873393105}]}}, {\"mode\": \"vega-lite\"});\n",
       "</script>"
      ],
      "text/plain": [
       "alt.LayerChart(...)"
      ]
     },
     "execution_count": 517,
     "metadata": {},
     "output_type": "execute_result"
    }
   ],
   "source": [
    "# Percentage of movies released each year\n",
    "movie_years = frequency_table(gross_earning, 'Release_Year', 'Year', 'Frequency')\n",
    "\n",
    "# Total earning based on the year of the movie release\n",
    "earning_year = gross_earning.drop(columns=['movie_title','genre','MPAA_rating','Release_Day','Release_Month']).groupby(\n",
    "    by = 'Release_Year').sum().reset_index().rename(columns={'Release_Year': 'Year'})\n",
    "\n",
    "# Figure 2 to show percentage of movies released each year along with their inflation adjusted gross earnings\n",
    "year_freq = alt.Chart(movie_years).mark_bar(color = 'greenyellow').encode(\n",
    "            alt.X('Year', title = 'Release Year', sort='x'),\n",
    "            alt.Y('frequency_percent', title = 'Movie Release (%)'))\n",
    "\n",
    "year_earning = alt.Chart(earning_year).mark_line(color = 'blue', point=True).encode(\n",
    "            alt.X('Year', title = 'Release Year'),\n",
    "            alt.Y('inflation_adjusted_gross', title = 'Inflation Adjusted Gross Revenue ($)'))\n",
    "\n",
    "combined_yearly_plot = alt.layer(year_freq, year_earning).properties(\n",
    "    height=600, width=800, title=\"Figure 2: Influence of the Movie Release Year on Earnings\").resolve_scale(\n",
    "    y = 'independent').configure_axis(\n",
    "    labelFontSize=16, titleFontSize=16).configure_title(fontSize=24)\n",
    "\n",
    "combined_yearly_plot"
   ]
  },
  {
   "cell_type": "markdown",
   "metadata": {},
   "source": [
    "Next question is to what extend does the movie genre impact overall movie earnings? Are certain genre more popular than others? \n",
    "\n",
    "To answer these, once again `frequency_table()` function is used to find percent of Disney movies released per each genre. `gross_earning` dataframe is used to find total movie earnings for each genre. \n",
    "\n",
    "`combined_genre_plot` shows breakdown of movie genres (y-axis on left), and total earnings for the respective genre using the line graph (y-axis on right). "
   ]
  },
  {
   "cell_type": "code",
   "execution_count": 518,
   "metadata": {},
   "outputs": [
    {
     "data": {
      "text/html": [
       "\n",
       "<div id=\"altair-viz-5660df2ed9c94fdc8628a075d725c142\"></div>\n",
       "<script type=\"text/javascript\">\n",
       "  (function(spec, embedOpt){\n",
       "    let outputDiv = document.currentScript.previousElementSibling;\n",
       "    if (outputDiv.id !== \"altair-viz-5660df2ed9c94fdc8628a075d725c142\") {\n",
       "      outputDiv = document.getElementById(\"altair-viz-5660df2ed9c94fdc8628a075d725c142\");\n",
       "    }\n",
       "    const paths = {\n",
       "      \"vega\": \"https://cdn.jsdelivr.net/npm//vega@5?noext\",\n",
       "      \"vega-lib\": \"https://cdn.jsdelivr.net/npm//vega-lib?noext\",\n",
       "      \"vega-lite\": \"https://cdn.jsdelivr.net/npm//vega-lite@4.8.1?noext\",\n",
       "      \"vega-embed\": \"https://cdn.jsdelivr.net/npm//vega-embed@6?noext\",\n",
       "    };\n",
       "\n",
       "    function loadScript(lib) {\n",
       "      return new Promise(function(resolve, reject) {\n",
       "        var s = document.createElement('script');\n",
       "        s.src = paths[lib];\n",
       "        s.async = true;\n",
       "        s.onload = () => resolve(paths[lib]);\n",
       "        s.onerror = () => reject(`Error loading script: ${paths[lib]}`);\n",
       "        document.getElementsByTagName(\"head\")[0].appendChild(s);\n",
       "      });\n",
       "    }\n",
       "\n",
       "    function showError(err) {\n",
       "      outputDiv.innerHTML = `<div class=\"error\" style=\"color:red;\">${err}</div>`;\n",
       "      throw err;\n",
       "    }\n",
       "\n",
       "    function displayChart(vegaEmbed) {\n",
       "      vegaEmbed(outputDiv, spec, embedOpt)\n",
       "        .catch(err => showError(`Javascript Error: ${err.message}<br>This usually means there's a typo in your chart specification. See the javascript console for the full traceback.`));\n",
       "    }\n",
       "\n",
       "    if(typeof define === \"function\" && define.amd) {\n",
       "      requirejs.config({paths});\n",
       "      require([\"vega-embed\"], displayChart, err => showError(`Error loading script: ${err.message}`));\n",
       "    } else if (typeof vegaEmbed === \"function\") {\n",
       "      displayChart(vegaEmbed);\n",
       "    } else {\n",
       "      loadScript(\"vega\")\n",
       "        .then(() => loadScript(\"vega-lite\"))\n",
       "        .then(() => loadScript(\"vega-embed\"))\n",
       "        .catch(showError)\n",
       "        .then(() => displayChart(vegaEmbed));\n",
       "    }\n",
       "  })({\"config\": {\"view\": {\"continuousWidth\": 400, \"continuousHeight\": 300}, \"axis\": {\"labelFontSize\": 16, \"titleFontSize\": 16}, \"title\": {\"fontSize\": 24}}, \"layer\": [{\"data\": {\"name\": \"data-bad5f774ae1e508b9494dc0c070065c2\"}, \"mark\": {\"type\": \"bar\", \"color\": \"lightcoral\"}, \"encoding\": {\"x\": {\"type\": \"nominal\", \"field\": \"Genre\", \"sort\": \"-y\", \"title\": \"Movie Genres\"}, \"y\": {\"type\": \"quantitative\", \"field\": \"frequency_percent\", \"title\": \"Movie Release (%)\"}}}, {\"data\": {\"name\": \"data-2d8a2b0d22ff2510d4ad9930328943d6\"}, \"mark\": {\"type\": \"line\", \"color\": \"blue\", \"point\": true, \"strokeWidth\": 3}, \"encoding\": {\"x\": {\"type\": \"nominal\", \"field\": \"genre\", \"title\": \"Movie Genres\"}, \"y\": {\"type\": \"quantitative\", \"field\": \"inflation_adjusted_gross\", \"title\": \"Inflation Adjusted Gross Revenue ($)\"}}}], \"height\": 600, \"resolve\": {\"scale\": {\"y\": \"independent\"}}, \"title\": \"Figure 3: Influence of Movie Genre on Earnings\", \"width\": 800, \"$schema\": \"https://vega.github.io/schema/vega-lite/v4.8.1.json\", \"datasets\": {\"data-bad5f774ae1e508b9494dc0c070065c2\": [{\"Genre\": \"Comedy\", \"frequency_percent\": 32.38434163701068}, {\"Genre\": \"Adventure\", \"frequency_percent\": 22.95373665480427}, {\"Genre\": \"Drama\", \"frequency_percent\": 20.284697508896798}, {\"Genre\": \"Action\", \"frequency_percent\": 7.11743772241993}, {\"Genre\": \"Thriller/Suspense\", \"frequency_percent\": 4.270462633451958}, {\"Genre\": \"Romantic Comedy\", \"frequency_percent\": 4.092526690391459}, {\"Genre\": \"Musical\", \"frequency_percent\": 2.8469750889679712}, {\"Genre\": \"Documentary\", \"frequency_percent\": 2.8469750889679712}, {\"Genre\": \"Western\", \"frequency_percent\": 1.2455516014234875}, {\"Genre\": \"Horror\", \"frequency_percent\": 1.0676156583629894}, {\"Genre\": \"Black Comedy\", \"frequency_percent\": 0.5338078291814947}, {\"Genre\": \"Concert/Performance\", \"frequency_percent\": 0.3558718861209964}], \"data-2d8a2b0d22ff2510d4ad9930328943d6\": [{\"genre\": \"Action\", \"total_gross\": 4184563282, \"inflation_adjusted_gross\": 4184563282}, {\"genre\": \"Adventure\", \"total_gross\": 16389069453, \"inflation_adjusted_gross\": 16389069453}, {\"genre\": \"Black Comedy\", \"total_gross\": 97543212, \"inflation_adjusted_gross\": 97543212}, {\"genre\": \"Comedy\", \"total_gross\": 8119619678, \"inflation_adjusted_gross\": 8119619678}, {\"genre\": \"Concert/Performance\", \"total_gross\": 103456466, \"inflation_adjusted_gross\": 103456466}, {\"genre\": \"Documentary\", \"total_gross\": 180685619, \"inflation_adjusted_gross\": 180685619}, {\"genre\": \"Drama\", \"total_gross\": 4106972970, \"inflation_adjusted_gross\": 4106972970}, {\"genre\": \"Horror\", \"total_gross\": 87068872, \"inflation_adjusted_gross\": 87068872}, {\"genre\": \"Musical\", \"total_gross\": 1157284155, \"inflation_adjusted_gross\": 1157284155}, {\"genre\": \"Romantic Comedy\", \"total_gross\": 1152206855, \"inflation_adjusted_gross\": 1152206855}, {\"genre\": \"Thriller/Suspense\", \"total_gross\": 1406806519, \"inflation_adjusted_gross\": 1406806519}, {\"genre\": \"Western\", \"total_gross\": 359011459, \"inflation_adjusted_gross\": 359011459}]}}, {\"mode\": \"vega-lite\"});\n",
       "</script>"
      ],
      "text/plain": [
       "alt.LayerChart(...)"
      ]
     },
     "execution_count": 518,
     "metadata": {},
     "output_type": "execute_result"
    }
   ],
   "source": [
    "# Percentage of movies released for each genre\n",
    "movies_genre = frequency_table(gross_earning, 'genre','Genre', 'Frequency')\n",
    "\n",
    "# Total earning for each genre\n",
    "genre_earning = gross_earning.drop(columns=['movie_title', 'Release_Day', 'MPAA_rating']).groupby(\n",
    "    by = 'genre').sum().reset_index()\n",
    "\n",
    "# Figure 3 to show percentage of movies released for each genre along with their inflation adjusted gross earnings\n",
    "genre_freq = alt.Chart(movies_genre).mark_bar(color = 'lightcoral').encode(\n",
    "            alt.X('Genre', title = 'Movie Genres', sort='-y'),\n",
    "            alt.Y('frequency_percent', title = 'Movie Release (%)'))\n",
    "\n",
    "genre_earning = alt.Chart(genre_earning).mark_line(\n",
    "    color = 'blue', point=True, strokeWidth= 3).encode(\n",
    "            alt.X('genre', title = 'Movie Genres'),\n",
    "            alt.Y('inflation_adjusted_gross', title = 'Inflation Adjusted Gross Revenue ($)'))\n",
    "\n",
    "combined_genre_plot = alt.layer(genre_freq, genre_earning).properties(\n",
    "    height=600, width=800, title=\"Figure 3: Influence of Movie Genre on Earnings\").resolve_scale(\n",
    "    y = 'independent').configure_axis(\n",
    "    labelFontSize=16, titleFontSize=16).configure_title(fontSize=24)\n",
    "\n",
    "combined_genre_plot"
   ]
  },
  {
   "cell_type": "markdown",
   "metadata": {},
   "source": [
    "Using similar analysis techniques as above, we will now be exploring impact of movie rating on earnings. \n",
    "\n",
    "`combined_rating_plot` shows percent breakdown of the `MPAA_rating` (y-axis on left), and total earnings for the respective rating using the line graph (y-axis on right). "
   ]
  },
  {
   "cell_type": "code",
   "execution_count": 519,
   "metadata": {},
   "outputs": [
    {
     "data": {
      "text/html": [
       "\n",
       "<div id=\"altair-viz-cec5daf45bc6428d952a9539843e27e1\"></div>\n",
       "<script type=\"text/javascript\">\n",
       "  (function(spec, embedOpt){\n",
       "    let outputDiv = document.currentScript.previousElementSibling;\n",
       "    if (outputDiv.id !== \"altair-viz-cec5daf45bc6428d952a9539843e27e1\") {\n",
       "      outputDiv = document.getElementById(\"altair-viz-cec5daf45bc6428d952a9539843e27e1\");\n",
       "    }\n",
       "    const paths = {\n",
       "      \"vega\": \"https://cdn.jsdelivr.net/npm//vega@5?noext\",\n",
       "      \"vega-lib\": \"https://cdn.jsdelivr.net/npm//vega-lib?noext\",\n",
       "      \"vega-lite\": \"https://cdn.jsdelivr.net/npm//vega-lite@4.8.1?noext\",\n",
       "      \"vega-embed\": \"https://cdn.jsdelivr.net/npm//vega-embed@6?noext\",\n",
       "    };\n",
       "\n",
       "    function loadScript(lib) {\n",
       "      return new Promise(function(resolve, reject) {\n",
       "        var s = document.createElement('script');\n",
       "        s.src = paths[lib];\n",
       "        s.async = true;\n",
       "        s.onload = () => resolve(paths[lib]);\n",
       "        s.onerror = () => reject(`Error loading script: ${paths[lib]}`);\n",
       "        document.getElementsByTagName(\"head\")[0].appendChild(s);\n",
       "      });\n",
       "    }\n",
       "\n",
       "    function showError(err) {\n",
       "      outputDiv.innerHTML = `<div class=\"error\" style=\"color:red;\">${err}</div>`;\n",
       "      throw err;\n",
       "    }\n",
       "\n",
       "    function displayChart(vegaEmbed) {\n",
       "      vegaEmbed(outputDiv, spec, embedOpt)\n",
       "        .catch(err => showError(`Javascript Error: ${err.message}<br>This usually means there's a typo in your chart specification. See the javascript console for the full traceback.`));\n",
       "    }\n",
       "\n",
       "    if(typeof define === \"function\" && define.amd) {\n",
       "      requirejs.config({paths});\n",
       "      require([\"vega-embed\"], displayChart, err => showError(`Error loading script: ${err.message}`));\n",
       "    } else if (typeof vegaEmbed === \"function\") {\n",
       "      displayChart(vegaEmbed);\n",
       "    } else {\n",
       "      loadScript(\"vega\")\n",
       "        .then(() => loadScript(\"vega-lite\"))\n",
       "        .then(() => loadScript(\"vega-embed\"))\n",
       "        .catch(showError)\n",
       "        .then(() => displayChart(vegaEmbed));\n",
       "    }\n",
       "  })({\"config\": {\"view\": {\"continuousWidth\": 400, \"continuousHeight\": 300}, \"axis\": {\"labelFontSize\": 16, \"titleFontSize\": 16}, \"title\": {\"fontSize\": 24}}, \"layer\": [{\"data\": {\"name\": \"data-b5851db5c823536a88255d440d60b331\"}, \"mark\": {\"type\": \"bar\", \"color\": \"khaki\"}, \"encoding\": {\"x\": {\"type\": \"nominal\", \"field\": \"Rating\", \"title\": \"Movie Rating\"}, \"y\": {\"type\": \"quantitative\", \"field\": \"frequency_percent\", \"title\": \"% Disney Movie Releases\"}}}, {\"data\": {\"name\": \"data-976cf31e1404836e8712b93a87f74a7e\"}, \"mark\": {\"type\": \"line\", \"color\": \"blue\", \"point\": true, \"strokeWidth\": 3}, \"encoding\": {\"x\": {\"type\": \"nominal\", \"field\": \"MPAA_rating\", \"title\": \"Movie Rating\"}, \"y\": {\"type\": \"quantitative\", \"field\": \"inflation_adjusted_gross\", \"title\": \"Inflation Adjusted Gross Revenue ($)\"}}}], \"height\": 600, \"resolve\": {\"scale\": {\"color\": \"independent\", \"shape\": \"independent\", \"y\": \"independent\"}}, \"title\": \"Figure 4: Influence of Movie Rating on Earnings\", \"width\": 800, \"$schema\": \"https://vega.github.io/schema/vega-lite/v4.8.1.json\", \"datasets\": {\"data-b5851db5c823536a88255d440d60b331\": [{\"Rating\": \"PG\", \"frequency_percent\": 35.75525812619503}, {\"Rating\": \"PG-13\", \"frequency_percent\": 27.724665391969406}, {\"Rating\": \"R\", \"frequency_percent\": 19.50286806883365}, {\"Rating\": \"G\", \"frequency_percent\": 16.44359464627151}, {\"Rating\": \"Not Rated\", \"frequency_percent\": 0.5736137667304015}], \"data-976cf31e1404836e8712b93a87f74a7e\": [{\"MPAA_rating\": \"G\", \"total_gross\": 7919792693, \"inflation_adjusted_gross\": 7919792693}, {\"MPAA_rating\": \"Not Rated\", \"total_gross\": 151387769, \"inflation_adjusted_gross\": 151387769}, {\"MPAA_rating\": \"PG\", \"total_gross\": 13767914371, \"inflation_adjusted_gross\": 13767914371}, {\"MPAA_rating\": \"PG-13\", \"total_gross\": 11771207588, \"inflation_adjusted_gross\": 11771207588}, {\"MPAA_rating\": \"R\", \"total_gross\": 2995266596, \"inflation_adjusted_gross\": 2995266596}]}}, {\"mode\": \"vega-lite\"});\n",
       "</script>"
      ],
      "text/plain": [
       "alt.LayerChart(...)"
      ]
     },
     "execution_count": 519,
     "metadata": {},
     "output_type": "execute_result"
    }
   ],
   "source": [
    "# Percent breakdown of Disney movies based on their ratings\n",
    "movies_rating = frequency_table(gross_earning, 'MPAA_rating','Rating', 'Frequency')\n",
    "\n",
    "# Total earning for each rating\n",
    "rating_earning = gross_earning.drop(columns=['movie_title', 'genre', 'Release_Day']).groupby(\n",
    "    by = 'MPAA_rating').sum().reset_index()\n",
    "\n",
    "# Figure 4 shows percent of movies released by their rating along with their inflation adjusted gross earnings\n",
    "rating_freq = alt.Chart(movies_rating).mark_bar(color = 'khaki').encode(\n",
    "            alt.X('Rating', title = 'Movie Rating'),\n",
    "            alt.Y('frequency_percent', title = '% Disney Movie Releases'))\n",
    "\n",
    "rating_earning = alt.Chart(rating_earning).mark_line(color='blue', point=True, strokeWidth= 3).encode(\n",
    "            alt.X('MPAA_rating', title = 'Movie Rating'),\n",
    "            alt.Y('inflation_adjusted_gross', title = 'Inflation Adjusted Gross Revenue ($)'))\n",
    "\n",
    "combined_rating_plot = alt.layer(rating_freq, rating_earning).properties(\n",
    "    height=600, width=800, title=\"Figure 4: Influence of Movie Rating on Earnings\").resolve_scale(\n",
    "    y = 'independent', color='independent',\n",
    "    shape='independent').configure_axis(labelFontSize=16, titleFontSize=16).configure_title(fontSize=24)\n",
    "\n",
    "combined_rating_plot"
   ]
  },
  {
   "cell_type": "markdown",
   "metadata": {},
   "source": [
    "To find influence of movie director on earnings, we first need to merge following two dataframe:`director_earning`,`gross_earning`. Inner merging is done based on common movie titles found in both of the dataframes. Movie titles that are not found in the `gross_earning` dataframe are excluded for the purpose of the analysis. "
   ]
  },
  {
   "cell_type": "code",
   "execution_count": 520,
   "metadata": {},
   "outputs": [
    {
     "data": {
      "text/html": [
       "\n",
       "<div id=\"altair-viz-4be0a26832594908b086007230cfe137\"></div>\n",
       "<script type=\"text/javascript\">\n",
       "  (function(spec, embedOpt){\n",
       "    let outputDiv = document.currentScript.previousElementSibling;\n",
       "    if (outputDiv.id !== \"altair-viz-4be0a26832594908b086007230cfe137\") {\n",
       "      outputDiv = document.getElementById(\"altair-viz-4be0a26832594908b086007230cfe137\");\n",
       "    }\n",
       "    const paths = {\n",
       "      \"vega\": \"https://cdn.jsdelivr.net/npm//vega@5?noext\",\n",
       "      \"vega-lib\": \"https://cdn.jsdelivr.net/npm//vega-lib?noext\",\n",
       "      \"vega-lite\": \"https://cdn.jsdelivr.net/npm//vega-lite@4.8.1?noext\",\n",
       "      \"vega-embed\": \"https://cdn.jsdelivr.net/npm//vega-embed@6?noext\",\n",
       "    };\n",
       "\n",
       "    function loadScript(lib) {\n",
       "      return new Promise(function(resolve, reject) {\n",
       "        var s = document.createElement('script');\n",
       "        s.src = paths[lib];\n",
       "        s.async = true;\n",
       "        s.onload = () => resolve(paths[lib]);\n",
       "        s.onerror = () => reject(`Error loading script: ${paths[lib]}`);\n",
       "        document.getElementsByTagName(\"head\")[0].appendChild(s);\n",
       "      });\n",
       "    }\n",
       "\n",
       "    function showError(err) {\n",
       "      outputDiv.innerHTML = `<div class=\"error\" style=\"color:red;\">${err}</div>`;\n",
       "      throw err;\n",
       "    }\n",
       "\n",
       "    function displayChart(vegaEmbed) {\n",
       "      vegaEmbed(outputDiv, spec, embedOpt)\n",
       "        .catch(err => showError(`Javascript Error: ${err.message}<br>This usually means there's a typo in your chart specification. See the javascript console for the full traceback.`));\n",
       "    }\n",
       "\n",
       "    if(typeof define === \"function\" && define.amd) {\n",
       "      requirejs.config({paths});\n",
       "      require([\"vega-embed\"], displayChart, err => showError(`Error loading script: ${err.message}`));\n",
       "    } else if (typeof vegaEmbed === \"function\") {\n",
       "      displayChart(vegaEmbed);\n",
       "    } else {\n",
       "      loadScript(\"vega\")\n",
       "        .then(() => loadScript(\"vega-lite\"))\n",
       "        .then(() => loadScript(\"vega-embed\"))\n",
       "        .catch(showError)\n",
       "        .then(() => displayChart(vegaEmbed));\n",
       "    }\n",
       "  })({\"config\": {\"view\": {\"continuousWidth\": 400, \"continuousHeight\": 300}, \"axis\": {\"labelFontSize\": 16, \"titleFontSize\": 16}, \"title\": {\"fontSize\": 24}}, \"layer\": [{\"data\": {\"name\": \"data-18cb6aab400fe0c3ec620041e4014492\"}, \"mark\": {\"type\": \"bar\", \"color\": \"darkblue\"}, \"encoding\": {\"x\": {\"type\": \"nominal\", \"field\": \"Movie Director\", \"title\": \"Movie Directors\"}, \"y\": {\"type\": \"quantitative\", \"field\": \"frequency_percent\", \"title\": \"% Disney Movie Releases\"}}}, {\"data\": {\"name\": \"data-6a52997b6c27809c89a03ce02d14d7ce\"}, \"mark\": {\"type\": \"line\", \"color\": \"darkred\", \"point\": true, \"strokeWidth\": 3.5}, \"encoding\": {\"x\": {\"type\": \"nominal\", \"field\": \"director\", \"title\": \"Movie Directors\"}, \"y\": {\"type\": \"quantitative\", \"field\": \"inflation_adjusted_gross\", \"title\": \"Inflation Adjusted Gross Revenue ($)\"}}}], \"height\": 600, \"resolve\": {\"scale\": {\"color\": \"independent\", \"shape\": \"independent\", \"y\": \"independent\"}}, \"title\": \"Figure 5: Influence of Movie Director on Earnings\", \"width\": 800, \"$schema\": \"https://vega.github.io/schema/vega-lite/v4.8.1.json\", \"datasets\": {\"data-18cb6aab400fe0c3ec620041e4014492\": [{\"Movie Director\": \"Wolfgang Reitherman\", \"frequency_percent\": 18.367346938775512}, {\"Movie Director\": \"Ron Clements\", \"frequency_percent\": 14.285714285714285}, {\"Movie Director\": \"Gary Trousdale\", \"frequency_percent\": 6.122448979591836}, {\"Movie Director\": \"Clyde Geronimi\", \"frequency_percent\": 4.081632653061225}, {\"Movie Director\": \"Mark Dindal\", \"frequency_percent\": 4.081632653061225}, {\"Movie Director\": \"Chris Buck\", \"frequency_percent\": 4.081632653061225}, {\"Movie Director\": \"Mike Gabriel\", \"frequency_percent\": 4.081632653061225}, {\"Movie Director\": \"Stephen J. Anderson\", \"frequency_percent\": 4.081632653061225}, {\"Movie Director\": \"Wilfred Jackson\", \"frequency_percent\": 4.081632653061225}, {\"Movie Director\": \"Rich Moore\", \"frequency_percent\": 2.0408163265306123}, {\"Movie Director\": \"Roger Allers\", \"frequency_percent\": 2.0408163265306123}, {\"Movie Director\": \"Nathan Greno\", \"frequency_percent\": 2.0408163265306123}, {\"Movie Director\": \"George Scribner\", \"frequency_percent\": 2.0408163265306123}, {\"Movie Director\": \"Don Hall\", \"frequency_percent\": 2.0408163265306123}, {\"Movie Director\": \"Art Stevens\", \"frequency_percent\": 2.0408163265306123}, {\"Movie Director\": \"full credits\", \"frequency_percent\": 2.0408163265306123}, {\"Movie Director\": \"Ralph Zondag\", \"frequency_percent\": 2.0408163265306123}, {\"Movie Director\": \"Chris Williams\", \"frequency_percent\": 2.0408163265306123}, {\"Movie Director\": \"Chris Sanders\", \"frequency_percent\": 2.0408163265306123}, {\"Movie Director\": \"Will Finn\", \"frequency_percent\": 2.0408163265306123}, {\"Movie Director\": \"Barry Cook\", \"frequency_percent\": 2.0408163265306123}, {\"Movie Director\": \"Ted Berman\", \"frequency_percent\": 2.0408163265306123}, {\"Movie Director\": \"Robert Walker\", \"frequency_percent\": 2.0408163265306123}, {\"Movie Director\": \"Ben Sharpsteen\", \"frequency_percent\": 2.0408163265306123}, {\"Movie Director\": \"Byron Howard\", \"frequency_percent\": 2.0408163265306123}, {\"Movie Director\": \"David Hand\", \"frequency_percent\": 2.0408163265306123}, {\"Movie Director\": \"Hamilton Luske\", \"frequency_percent\": 2.0408163265306123}], \"data-6a52997b6c27809c89a03ce02d14d7ce\": [{\"director\": \"Art Stevens\", \"total_gross\": 43899231, \"inflation_adjusted_gross\": 43899231}, {\"director\": \"Barry Cook\", \"total_gross\": 120620254, \"inflation_adjusted_gross\": 120620254}, {\"director\": \"Ben Sharpsteen\", \"total_gross\": 84300000, \"inflation_adjusted_gross\": 84300000}, {\"director\": \"Byron Howard\", \"total_gross\": 341268248, \"inflation_adjusted_gross\": 341268248}, {\"director\": \"Chris Buck\", \"total_gross\": 571829828, \"inflation_adjusted_gross\": 571829828}, {\"director\": \"Chris Sanders\", \"total_gross\": 145771527, \"inflation_adjusted_gross\": 145771527}, {\"director\": \"Chris Williams\", \"total_gross\": 114053759, \"inflation_adjusted_gross\": 114053759}, {\"director\": \"Clyde Geronimi\", \"total_gross\": 343655718, \"inflation_adjusted_gross\": 343655718}, {\"director\": \"David Hand\", \"total_gross\": 184925485, \"inflation_adjusted_gross\": 184925485}, {\"director\": \"Don Hall\", \"total_gross\": 222527828, \"inflation_adjusted_gross\": 222527828}, {\"director\": \"Gary Trousdale\", \"total_gross\": 403143238, \"inflation_adjusted_gross\": 403143238}, {\"director\": \"George Scribner\", \"total_gross\": 49576671, \"inflation_adjusted_gross\": 49576671}, {\"director\": \"Hamilton Luske\", \"total_gross\": 93600000, \"inflation_adjusted_gross\": 93600000}, {\"director\": \"Mark Dindal\", \"total_gross\": 224683238, \"inflation_adjusted_gross\": 224683238}, {\"director\": \"Mike Gabriel\", \"total_gross\": 169511234, \"inflation_adjusted_gross\": 169511234}, {\"director\": \"Nathan Greno\", \"total_gross\": 200821936, \"inflation_adjusted_gross\": 200821936}, {\"director\": \"Ralph Zondag\", \"total_gross\": 137748063, \"inflation_adjusted_gross\": 137748063}, {\"director\": \"Rich Moore\", \"total_gross\": 189412677, \"inflation_adjusted_gross\": 189412677}, {\"director\": \"Robert Walker\", \"total_gross\": 85336277, \"inflation_adjusted_gross\": 85336277}, {\"director\": \"Roger Allers\", \"total_gross\": 422780140, \"inflation_adjusted_gross\": 422780140}, {\"director\": \"Ron Clements\", \"total_gross\": 840214815, \"inflation_adjusted_gross\": 840214815}, {\"director\": \"Stephen J. Anderson\", \"total_gross\": 124515017, \"inflation_adjusted_gross\": 124515017}, {\"director\": \"Ted Berman\", \"total_gross\": 21288692, \"inflation_adjusted_gross\": 21288692}, {\"director\": \"Wilfred Jackson\", \"total_gross\": 286151353, \"inflation_adjusted_gross\": 286151353}, {\"director\": \"Will Finn\", \"total_gross\": 50026353, \"inflation_adjusted_gross\": 50026353}, {\"director\": \"Wolfgang Reitherman\", \"total_gross\": 966009582, \"inflation_adjusted_gross\": 966009582}, {\"director\": \"full credits\", \"total_gross\": 83320000, \"inflation_adjusted_gross\": 83320000}]}}, {\"mode\": \"vega-lite\"});\n",
       "</script>"
      ],
      "text/plain": [
       "alt.LayerChart(...)"
      ]
     },
     "execution_count": 520,
     "metadata": {},
     "output_type": "execute_result"
    }
   ],
   "source": [
    "# Dataframe merge to link movie_title with their respective director, and earnings \n",
    "director_earning = gross_earning.merge(director, left_on='movie_title', right_on='name',how='inner',indicator=True).drop(\n",
    "    columns=['Release_Day'])\n",
    "\n",
    "# Percent breakdown of Disney movies based on their director\n",
    "movies_director = frequency_table(director_earning, 'director','Movie Director', 'Frequency')\n",
    "\n",
    "# Amount of inflation adjusted gross_profit associated with each direactor \n",
    "director_earn = director_earning.groupby(by = 'director').sum().reset_index()\n",
    "\n",
    "# Figure 5 shows percent of movies released by their rating along with their inflation adjusted gross earnings\n",
    "director_freq = alt.Chart(movies_director).mark_bar(color = 'darkblue').encode(\n",
    "            alt.X('Movie Director', title = 'Movie Directors'),\n",
    "            alt.Y('frequency_percent', title = '% Disney Movie Releases'))\n",
    "\n",
    "director_earnings = alt.Chart(director_earn).mark_line(color='darkred', point=True, strokeWidth= 3.5).encode(\n",
    "            alt.X('director', title = 'Movie Directors'),\n",
    "            alt.Y('inflation_adjusted_gross', title = 'Inflation Adjusted Gross Revenue ($)'))\n",
    "\n",
    "combined_director_plot = alt.layer(director_freq, director_earnings).properties(\n",
    "    height=600, width=800, title=\"Figure 5: Influence of Movie Director on Earnings\").resolve_scale(\n",
    "    y = 'independent', color='independent',\n",
    "    shape='independent').configure_axis(labelFontSize=16, titleFontSize=16).configure_title(fontSize=24)\n",
    "\n",
    "combined_director_plot"
   ]
  },
  {
   "cell_type": "markdown",
   "metadata": {},
   "source": [
    "___________________________________________________________________________________\n",
    "____________________________________________________________________________________"
   ]
  },
  {
   "cell_type": "markdown",
   "metadata": {},
   "source": [
    "# Discussions\n",
    "\n",
    "## Summary of Findings\n",
    "Earlier, we did analysis to find to what extend key factors like the movie release month, genre, rating, and the movie director have had influence on the overall box office success of disney movies over the years. \n",
    "\n",
    "Figure 1 shows as expected, there is no clear relationship between when the movie is released (month) and its gross earnings. Disney movies are popular watch all year round. \n",
    "\n",
    "Figure 2 shows Disney movies have gained nearly exponential popularity (or earnings) over the years. As seen in the figure, prior to 1985 not many Disney movies were released. Most movies were released from mid 1980s to early 2000s, but Disney movie earning grew the most (nearly doubled) post 2010. \n",
    "\n",
    "Figure 3 shows majority of the Disney movies have been comedy, and adventure (close-second). As expected, these genres are also higher earners than others. \n",
    "\n",
    "Figure 4 shows nearly 35% of movies have been rated PG, and this rating has been the highest earner. This is aligned with my earlier expectation as PG movies can be viewed by larger and more diverse audience. PG-13 movies are the second highest earners, and the second most popular Disney movie category. \n",
    "\n",
    "Figure 5 shows the most popular Disney movie director has been Will Finn, and then Ron Clements with accumulated movie earnings of ~$950 M and ~$850 M, respectively. \n",
    "\n",
    "Overall, the data analysis shows the most popular directors, genre, and ratings trend with higher movie earnings.\n",
    "\n",
    "## Impact of Findings and conluding remarks\n",
    "Disney movie exploratory analysis shows genres and ratings that have been most popular over the years. It provides insight into what sorts of movies audience enjoys watching. It provides opportunity to make similar themed movies for future. By knowing popular movie directors, future producers and directors can take inspiration from their films regarding techniques, characters, plot development as it has proven to appeal to wide range of audience. Because Disney movies have been earning the greatest amount in recent years, it shows that our audience today is still very engaged and invested with Disney, and that there is a huge market still waiting to be captured. For a movie marketing team, it also helps to understand a new Disney movie launch month will not have a significant impact on its overall revenue. \n",
    "\n",
    "In conclusion, Disney movie genre, rating and movie director will have an influence on success of a disney movie. Other questions that I would be interested in answering includes which character or movies have been the most popular that it's worth making a sequel for, or how can we better commericalize less successful disney movies by re-making them to fit popular characterization, genre and rating. I would also be interested to know how has audience age-group changed over the years. \n"
   ]
  },
  {
   "cell_type": "markdown",
   "metadata": {},
   "source": [
    "___________________________________________________________________________________\n",
    "____________________________________________________________________________________"
   ]
  },
  {
   "cell_type": "markdown",
   "metadata": {},
   "source": [
    "# References\n",
    "Not all the work in this notebook is original. Data were analyzed from online resources.\n",
    "\n",
    "## Resources used\n",
    "* [Data Source](https://data.world/kgarrett/disney-character-success-00-16e)\n",
    "    * Disney movie database used in this work was uploaded by **Kelly Garrett** on the sourced website. \n",
    "    * Disney character success - dataset by Kgarrett. data.world. (2018, June 13). https://data.world/kgarrett/disney-character-success-00-16. \n",
    "        \n",
    "* [Data Visualization](https://www.kaggle.com/asindico/data-exploration)\n",
    "    * Inspiration for generating the plotting the average number of parts over the years was taken from **Andrea Sandico**.\n",
    "    * Asindico. (2017, July 19). Data exploration. Kaggle. https://www.kaggle.com/asindico/data-exploration. \n"
   ]
  },
  {
   "cell_type": "markdown",
   "metadata": {},
   "source": [
    "___________________________________________________________________________________\n",
    "____________________________________________________________________________________"
   ]
  },
  {
   "cell_type": "markdown",
   "metadata": {},
   "source": [
    "# Miscellaneous"
   ]
  },
  {
   "cell_type": "code",
   "execution_count": 522,
   "metadata": {},
   "outputs": [
    {
     "name": "stdout",
     "output_type": "stream",
     "text": [
      "\u001b[1mreformatted final_project.ipynb\u001b[0m\n",
      "\u001b[1mAll done! ✨ 🍰 ✨\u001b[0m\n",
      "\u001b[1m1 file reformatted\u001b[0m.\u001b[0m\n",
      "\u001b[1mreformatted frequency.py\u001b[0m\n",
      "\u001b[1mAll done! ✨ 🍰 ✨\u001b[0m\n",
      "\u001b[1m1 file reformatted\u001b[0m.\u001b[0m\n",
      "\u001b[1mreformatted frequency_tests.py\u001b[0m\n",
      "\u001b[1mAll done! ✨ 🍰 ✨\u001b[0m\n",
      "\u001b[1m1 file reformatted\u001b[0m.\u001b[0m\n"
     ]
    }
   ],
   "source": [
    "# Bloack formatting \n",
    "!black final_project.ipynb\n",
    "!black frequency.py\n",
    "!black frequency_tests.py"
   ]
  }
 ],
 "metadata": {
  "kernelspec": {
   "display_name": "Python 3",
   "language": "python",
   "name": "python3"
  },
  "language_info": {
   "codemirror_mode": {
    "name": "ipython",
    "version": 3
   },
   "file_extension": ".py",
   "mimetype": "text/x-python",
   "name": "python",
   "nbconvert_exporter": "python",
   "pygments_lexer": "ipython3",
   "version": "3.8.5"
  }
 },
 "nbformat": 4,
 "nbformat_minor": 4
}
